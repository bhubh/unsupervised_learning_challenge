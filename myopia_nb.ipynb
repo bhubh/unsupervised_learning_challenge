{
 "cells": [
  {
   "cell_type": "code",
   "execution_count": 1,
   "metadata": {},
   "outputs": [],
   "source": [
    "# Import dependencies\n",
    "import pandas as pd\n",
    "import matplotlib.pyplot as plt\n",
    "import numpy as np\n",
    "from sklearn.cluster import KMeans\n",
    "from sklearn.preprocessing import StandardScaler\n",
    "from sklearn.decomposition import PCA\n",
    "from sklearn.manifold import TSNE\n"
   ]
  },
  {
   "cell_type": "code",
   "execution_count": 2,
   "metadata": {
    "scrolled": true
   },
   "outputs": [
    {
     "data": {
      "text/html": [
       "<div>\n",
       "<style scoped>\n",
       "    .dataframe tbody tr th:only-of-type {\n",
       "        vertical-align: middle;\n",
       "    }\n",
       "\n",
       "    .dataframe tbody tr th {\n",
       "        vertical-align: top;\n",
       "    }\n",
       "\n",
       "    .dataframe thead th {\n",
       "        text-align: right;\n",
       "    }\n",
       "</style>\n",
       "<table border=\"1\" class=\"dataframe\">\n",
       "  <thead>\n",
       "    <tr style=\"text-align: right;\">\n",
       "      <th></th>\n",
       "      <th>AGE</th>\n",
       "      <th>SPHEQ</th>\n",
       "      <th>AL</th>\n",
       "      <th>ACD</th>\n",
       "      <th>LT</th>\n",
       "      <th>VCD</th>\n",
       "      <th>SPORTHR</th>\n",
       "      <th>READHR</th>\n",
       "      <th>COMPHR</th>\n",
       "      <th>STUDYHR</th>\n",
       "      <th>TVHR</th>\n",
       "      <th>DIOPTERHR</th>\n",
       "      <th>MOMMY</th>\n",
       "      <th>DADMY</th>\n",
       "      <th>MYOPIC</th>\n",
       "    </tr>\n",
       "  </thead>\n",
       "  <tbody>\n",
       "    <tr>\n",
       "      <th>0</th>\n",
       "      <td>6</td>\n",
       "      <td>-0.052</td>\n",
       "      <td>21.889999</td>\n",
       "      <td>3.690</td>\n",
       "      <td>3.498</td>\n",
       "      <td>14.70</td>\n",
       "      <td>45</td>\n",
       "      <td>8</td>\n",
       "      <td>0</td>\n",
       "      <td>0</td>\n",
       "      <td>10</td>\n",
       "      <td>34</td>\n",
       "      <td>1</td>\n",
       "      <td>1</td>\n",
       "      <td>1</td>\n",
       "    </tr>\n",
       "    <tr>\n",
       "      <th>1</th>\n",
       "      <td>6</td>\n",
       "      <td>0.608</td>\n",
       "      <td>22.379999</td>\n",
       "      <td>3.702</td>\n",
       "      <td>3.392</td>\n",
       "      <td>15.29</td>\n",
       "      <td>4</td>\n",
       "      <td>0</td>\n",
       "      <td>1</td>\n",
       "      <td>1</td>\n",
       "      <td>7</td>\n",
       "      <td>12</td>\n",
       "      <td>1</td>\n",
       "      <td>1</td>\n",
       "      <td>0</td>\n",
       "    </tr>\n",
       "    <tr>\n",
       "      <th>2</th>\n",
       "      <td>6</td>\n",
       "      <td>1.179</td>\n",
       "      <td>22.490000</td>\n",
       "      <td>3.462</td>\n",
       "      <td>3.514</td>\n",
       "      <td>15.52</td>\n",
       "      <td>14</td>\n",
       "      <td>0</td>\n",
       "      <td>2</td>\n",
       "      <td>0</td>\n",
       "      <td>10</td>\n",
       "      <td>14</td>\n",
       "      <td>0</td>\n",
       "      <td>0</td>\n",
       "      <td>0</td>\n",
       "    </tr>\n",
       "    <tr>\n",
       "      <th>3</th>\n",
       "      <td>6</td>\n",
       "      <td>0.525</td>\n",
       "      <td>22.200001</td>\n",
       "      <td>3.862</td>\n",
       "      <td>3.612</td>\n",
       "      <td>14.73</td>\n",
       "      <td>18</td>\n",
       "      <td>11</td>\n",
       "      <td>0</td>\n",
       "      <td>0</td>\n",
       "      <td>4</td>\n",
       "      <td>37</td>\n",
       "      <td>0</td>\n",
       "      <td>1</td>\n",
       "      <td>1</td>\n",
       "    </tr>\n",
       "    <tr>\n",
       "      <th>4</th>\n",
       "      <td>5</td>\n",
       "      <td>0.697</td>\n",
       "      <td>23.290001</td>\n",
       "      <td>3.676</td>\n",
       "      <td>3.454</td>\n",
       "      <td>16.16</td>\n",
       "      <td>14</td>\n",
       "      <td>0</td>\n",
       "      <td>0</td>\n",
       "      <td>0</td>\n",
       "      <td>4</td>\n",
       "      <td>4</td>\n",
       "      <td>1</td>\n",
       "      <td>0</td>\n",
       "      <td>0</td>\n",
       "    </tr>\n",
       "  </tbody>\n",
       "</table>\n",
       "</div>"
      ],
      "text/plain": [
       "   AGE  SPHEQ         AL    ACD     LT    VCD  SPORTHR  READHR  COMPHR  \\\n",
       "0    6 -0.052  21.889999  3.690  3.498  14.70       45       8       0   \n",
       "1    6  0.608  22.379999  3.702  3.392  15.29        4       0       1   \n",
       "2    6  1.179  22.490000  3.462  3.514  15.52       14       0       2   \n",
       "3    6  0.525  22.200001  3.862  3.612  14.73       18      11       0   \n",
       "4    5  0.697  23.290001  3.676  3.454  16.16       14       0       0   \n",
       "\n",
       "   STUDYHR  TVHR  DIOPTERHR  MOMMY  DADMY  MYOPIC  \n",
       "0        0    10         34      1      1       1  \n",
       "1        1     7         12      1      1       0  \n",
       "2        0    10         14      0      0       0  \n",
       "3        0     4         37      0      1       1  \n",
       "4        0     4          4      1      0       0  "
      ]
     },
     "execution_count": 2,
     "metadata": {},
     "output_type": "execute_result"
    }
   ],
   "source": [
    "# Reading csv file into dataframe\n",
    "myopia_df = pd.read_csv(\"Resources/myopia.csv\")\n",
    "myopia_df.head()\n"
   ]
  },
  {
   "cell_type": "code",
   "execution_count": 3,
   "metadata": {
    "scrolled": true
   },
   "outputs": [
    {
     "name": "stdout",
     "output_type": "stream",
     "text": [
      "Column AGE has 0 null values\n",
      "Column SPHEQ has 0 null values\n",
      "Column AL has 0 null values\n",
      "Column ACD has 0 null values\n",
      "Column LT has 0 null values\n",
      "Column VCD has 0 null values\n",
      "Column SPORTHR has 0 null values\n",
      "Column READHR has 0 null values\n",
      "Column COMPHR has 0 null values\n",
      "Column STUDYHR has 0 null values\n",
      "Column TVHR has 0 null values\n",
      "Column DIOPTERHR has 0 null values\n",
      "Column MOMMY has 0 null values\n",
      "Column DADMY has 0 null values\n",
      "Column MYOPIC has 0 null values\n"
     ]
    }
   ],
   "source": [
    "# Checking for null values\n",
    "for column in myopia_df.columns:\n",
    "    print(f\"Column {column} has {myopia_df[column].isnull().sum()} null values\")\n",
    "    \n",
    "    "
   ]
  },
  {
   "cell_type": "code",
   "execution_count": 4,
   "metadata": {},
   "outputs": [
    {
     "name": "stdout",
     "output_type": "stream",
     "text": [
      "Duplicate entries: 0\n"
     ]
    }
   ],
   "source": [
    "# Find duplicate entries if any\n",
    "print(f\"Duplicate entries: {myopia_df.duplicated().sum()}\")"
   ]
  },
  {
   "cell_type": "code",
   "execution_count": 5,
   "metadata": {
    "scrolled": true
   },
   "outputs": [
    {
     "data": {
      "text/html": [
       "<div>\n",
       "<style scoped>\n",
       "    .dataframe tbody tr th:only-of-type {\n",
       "        vertical-align: middle;\n",
       "    }\n",
       "\n",
       "    .dataframe tbody tr th {\n",
       "        vertical-align: top;\n",
       "    }\n",
       "\n",
       "    .dataframe thead th {\n",
       "        text-align: right;\n",
       "    }\n",
       "</style>\n",
       "<table border=\"1\" class=\"dataframe\">\n",
       "  <thead>\n",
       "    <tr style=\"text-align: right;\">\n",
       "      <th></th>\n",
       "      <th>AGE</th>\n",
       "      <th>SPHEQ</th>\n",
       "      <th>AL</th>\n",
       "      <th>ACD</th>\n",
       "      <th>LT</th>\n",
       "      <th>VCD</th>\n",
       "      <th>SPORTHR</th>\n",
       "      <th>READHR</th>\n",
       "      <th>COMPHR</th>\n",
       "      <th>STUDYHR</th>\n",
       "      <th>TVHR</th>\n",
       "      <th>DIOPTERHR</th>\n",
       "      <th>MOMMY</th>\n",
       "      <th>DADMY</th>\n",
       "    </tr>\n",
       "  </thead>\n",
       "  <tbody>\n",
       "    <tr>\n",
       "      <th>0</th>\n",
       "      <td>6</td>\n",
       "      <td>-0.052</td>\n",
       "      <td>21.889999</td>\n",
       "      <td>3.690</td>\n",
       "      <td>3.498</td>\n",
       "      <td>14.70</td>\n",
       "      <td>45</td>\n",
       "      <td>8</td>\n",
       "      <td>0</td>\n",
       "      <td>0</td>\n",
       "      <td>10</td>\n",
       "      <td>34</td>\n",
       "      <td>1</td>\n",
       "      <td>1</td>\n",
       "    </tr>\n",
       "    <tr>\n",
       "      <th>1</th>\n",
       "      <td>6</td>\n",
       "      <td>0.608</td>\n",
       "      <td>22.379999</td>\n",
       "      <td>3.702</td>\n",
       "      <td>3.392</td>\n",
       "      <td>15.29</td>\n",
       "      <td>4</td>\n",
       "      <td>0</td>\n",
       "      <td>1</td>\n",
       "      <td>1</td>\n",
       "      <td>7</td>\n",
       "      <td>12</td>\n",
       "      <td>1</td>\n",
       "      <td>1</td>\n",
       "    </tr>\n",
       "    <tr>\n",
       "      <th>2</th>\n",
       "      <td>6</td>\n",
       "      <td>1.179</td>\n",
       "      <td>22.490000</td>\n",
       "      <td>3.462</td>\n",
       "      <td>3.514</td>\n",
       "      <td>15.52</td>\n",
       "      <td>14</td>\n",
       "      <td>0</td>\n",
       "      <td>2</td>\n",
       "      <td>0</td>\n",
       "      <td>10</td>\n",
       "      <td>14</td>\n",
       "      <td>0</td>\n",
       "      <td>0</td>\n",
       "    </tr>\n",
       "    <tr>\n",
       "      <th>3</th>\n",
       "      <td>6</td>\n",
       "      <td>0.525</td>\n",
       "      <td>22.200001</td>\n",
       "      <td>3.862</td>\n",
       "      <td>3.612</td>\n",
       "      <td>14.73</td>\n",
       "      <td>18</td>\n",
       "      <td>11</td>\n",
       "      <td>0</td>\n",
       "      <td>0</td>\n",
       "      <td>4</td>\n",
       "      <td>37</td>\n",
       "      <td>0</td>\n",
       "      <td>1</td>\n",
       "    </tr>\n",
       "    <tr>\n",
       "      <th>4</th>\n",
       "      <td>5</td>\n",
       "      <td>0.697</td>\n",
       "      <td>23.290001</td>\n",
       "      <td>3.676</td>\n",
       "      <td>3.454</td>\n",
       "      <td>16.16</td>\n",
       "      <td>14</td>\n",
       "      <td>0</td>\n",
       "      <td>0</td>\n",
       "      <td>0</td>\n",
       "      <td>4</td>\n",
       "      <td>4</td>\n",
       "      <td>1</td>\n",
       "      <td>0</td>\n",
       "    </tr>\n",
       "  </tbody>\n",
       "</table>\n",
       "</div>"
      ],
      "text/plain": [
       "   AGE  SPHEQ         AL    ACD     LT    VCD  SPORTHR  READHR  COMPHR  \\\n",
       "0    6 -0.052  21.889999  3.690  3.498  14.70       45       8       0   \n",
       "1    6  0.608  22.379999  3.702  3.392  15.29        4       0       1   \n",
       "2    6  1.179  22.490000  3.462  3.514  15.52       14       0       2   \n",
       "3    6  0.525  22.200001  3.862  3.612  14.73       18      11       0   \n",
       "4    5  0.697  23.290001  3.676  3.454  16.16       14       0       0   \n",
       "\n",
       "   STUDYHR  TVHR  DIOPTERHR  MOMMY  DADMY  \n",
       "0        0    10         34      1      1  \n",
       "1        1     7         12      1      1  \n",
       "2        0    10         14      0      0  \n",
       "3        0     4         37      0      1  \n",
       "4        0     4          4      1      0  "
      ]
     },
     "execution_count": 5,
     "metadata": {},
     "output_type": "execute_result"
    }
   ],
   "source": [
    "#Removing the target class from the dataframe to keep classification features only\n",
    "myopia_df1 = myopia_df.drop(\"MYOPIC\", axis = 1)\n",
    "myopia_df1.head()\n"
   ]
  },
  {
   "cell_type": "code",
   "execution_count": 6,
   "metadata": {},
   "outputs": [
    {
     "data": {
      "text/plain": [
       "Index(['AGE', 'SPHEQ', 'AL', 'ACD', 'LT', 'VCD', 'SPORTHR', 'READHR', 'COMPHR',\n",
       "       'STUDYHR', 'TVHR', 'DIOPTERHR', 'MOMMY', 'DADMY'],\n",
       "      dtype='object')"
      ]
     },
     "execution_count": 6,
     "metadata": {},
     "output_type": "execute_result"
    }
   ],
   "source": [
    "#LIST COLUMNS\n",
    "myopia_df1.columns"
   ]
  },
  {
   "cell_type": "code",
   "execution_count": 7,
   "metadata": {},
   "outputs": [],
   "source": [
    "# Using scalar transform to scale the features into same order\n",
    "\n",
    "scaler = StandardScaler()\n",
    "scaled_data = scaler.fit_transform(myopia_df1[[\"AGE\", \"SPHEQ\", \"AL\", \"ACD\", \"LT\", \"VCD\", \"SPORTHR\",\n",
    "                                              \"READHR\", \"COMPHR\", \"STUDYHR\", \"TVHR\", \"DIOPTERHR\"]])\n"
   ]
  },
  {
   "cell_type": "code",
   "execution_count": 8,
   "metadata": {
    "scrolled": true
   },
   "outputs": [
    {
     "data": {
      "text/html": [
       "<div>\n",
       "<style scoped>\n",
       "    .dataframe tbody tr th:only-of-type {\n",
       "        vertical-align: middle;\n",
       "    }\n",
       "\n",
       "    .dataframe tbody tr th {\n",
       "        vertical-align: top;\n",
       "    }\n",
       "\n",
       "    .dataframe thead th {\n",
       "        text-align: right;\n",
       "    }\n",
       "</style>\n",
       "<table border=\"1\" class=\"dataframe\">\n",
       "  <thead>\n",
       "    <tr style=\"text-align: right;\">\n",
       "      <th></th>\n",
       "      <th>AGE</th>\n",
       "      <th>SPHEQ</th>\n",
       "      <th>AL</th>\n",
       "      <th>ACD</th>\n",
       "      <th>LT</th>\n",
       "      <th>VCD</th>\n",
       "      <th>SPORTHR</th>\n",
       "      <th>READHR</th>\n",
       "      <th>COMPHR</th>\n",
       "      <th>STUDYHR</th>\n",
       "      <th>TVHR</th>\n",
       "      <th>DIOPTERHR</th>\n",
       "    </tr>\n",
       "  </thead>\n",
       "  <tbody>\n",
       "    <tr>\n",
       "      <th>0</th>\n",
       "      <td>-0.420219</td>\n",
       "      <td>-1.363917</td>\n",
       "      <td>-0.892861</td>\n",
       "      <td>0.483784</td>\n",
       "      <td>-0.281443</td>\n",
       "      <td>-1.019792</td>\n",
       "      <td>4.150661</td>\n",
       "      <td>1.697450</td>\n",
       "      <td>-0.689311</td>\n",
       "      <td>-0.672996</td>\n",
       "      <td>0.184058</td>\n",
       "      <td>0.498304</td>\n",
       "    </tr>\n",
       "    <tr>\n",
       "      <th>1</th>\n",
       "      <td>-0.420219</td>\n",
       "      <td>-0.308612</td>\n",
       "      <td>-0.171840</td>\n",
       "      <td>0.535910</td>\n",
       "      <td>-0.967997</td>\n",
       "      <td>-0.130763</td>\n",
       "      <td>-0.998898</td>\n",
       "      <td>-0.912062</td>\n",
       "      <td>-0.361875</td>\n",
       "      <td>-0.221409</td>\n",
       "      <td>-0.340932</td>\n",
       "      <td>-0.875088</td>\n",
       "    </tr>\n",
       "    <tr>\n",
       "      <th>2</th>\n",
       "      <td>-0.420219</td>\n",
       "      <td>0.604386</td>\n",
       "      <td>-0.009977</td>\n",
       "      <td>-0.506628</td>\n",
       "      <td>-0.177812</td>\n",
       "      <td>0.215809</td>\n",
       "      <td>0.257092</td>\n",
       "      <td>-0.912062</td>\n",
       "      <td>-0.034439</td>\n",
       "      <td>-0.672996</td>\n",
       "      <td>0.184058</td>\n",
       "      <td>-0.750234</td>\n",
       "    </tr>\n",
       "    <tr>\n",
       "      <th>3</th>\n",
       "      <td>-0.420219</td>\n",
       "      <td>-0.441325</td>\n",
       "      <td>-0.436703</td>\n",
       "      <td>1.230936</td>\n",
       "      <td>0.456927</td>\n",
       "      <td>-0.974587</td>\n",
       "      <td>0.759488</td>\n",
       "      <td>2.676017</td>\n",
       "      <td>-0.689311</td>\n",
       "      <td>-0.672996</td>\n",
       "      <td>-0.865922</td>\n",
       "      <td>0.685585</td>\n",
       "    </tr>\n",
       "    <tr>\n",
       "      <th>4</th>\n",
       "      <td>-1.823978</td>\n",
       "      <td>-0.166306</td>\n",
       "      <td>1.167204</td>\n",
       "      <td>0.422970</td>\n",
       "      <td>-0.566427</td>\n",
       "      <td>1.180178</td>\n",
       "      <td>0.257092</td>\n",
       "      <td>-0.912062</td>\n",
       "      <td>-0.689311</td>\n",
       "      <td>-0.672996</td>\n",
       "      <td>-0.865922</td>\n",
       "      <td>-1.374503</td>\n",
       "    </tr>\n",
       "  </tbody>\n",
       "</table>\n",
       "</div>"
      ],
      "text/plain": [
       "        AGE     SPHEQ        AL       ACD        LT       VCD   SPORTHR  \\\n",
       "0 -0.420219 -1.363917 -0.892861  0.483784 -0.281443 -1.019792  4.150661   \n",
       "1 -0.420219 -0.308612 -0.171840  0.535910 -0.967997 -0.130763 -0.998898   \n",
       "2 -0.420219  0.604386 -0.009977 -0.506628 -0.177812  0.215809  0.257092   \n",
       "3 -0.420219 -0.441325 -0.436703  1.230936  0.456927 -0.974587  0.759488   \n",
       "4 -1.823978 -0.166306  1.167204  0.422970 -0.566427  1.180178  0.257092   \n",
       "\n",
       "     READHR    COMPHR   STUDYHR      TVHR  DIOPTERHR  \n",
       "0  1.697450 -0.689311 -0.672996  0.184058   0.498304  \n",
       "1 -0.912062 -0.361875 -0.221409 -0.340932  -0.875088  \n",
       "2 -0.912062 -0.034439 -0.672996  0.184058  -0.750234  \n",
       "3  2.676017 -0.689311 -0.672996 -0.865922   0.685585  \n",
       "4 -0.912062 -0.689311 -0.672996 -0.865922  -1.374503  "
      ]
     },
     "execution_count": 8,
     "metadata": {},
     "output_type": "execute_result"
    }
   ],
   "source": [
    "#Creating new dataframe with transformed data\n",
    "myopia_dfT = pd.DataFrame(scaled_data, columns = myopia_df1.columns[0:12])\n",
    "myopia_dfT.head()\n"
   ]
  },
  {
   "cell_type": "code",
   "execution_count": 9,
   "metadata": {
    "scrolled": true
   },
   "outputs": [
    {
     "data": {
      "text/html": [
       "<div>\n",
       "<style scoped>\n",
       "    .dataframe tbody tr th:only-of-type {\n",
       "        vertical-align: middle;\n",
       "    }\n",
       "\n",
       "    .dataframe tbody tr th {\n",
       "        vertical-align: top;\n",
       "    }\n",
       "\n",
       "    .dataframe thead th {\n",
       "        text-align: right;\n",
       "    }\n",
       "</style>\n",
       "<table border=\"1\" class=\"dataframe\">\n",
       "  <thead>\n",
       "    <tr style=\"text-align: right;\">\n",
       "      <th></th>\n",
       "      <th>AGE</th>\n",
       "      <th>SPHEQ</th>\n",
       "      <th>AL</th>\n",
       "      <th>ACD</th>\n",
       "      <th>LT</th>\n",
       "      <th>VCD</th>\n",
       "      <th>SPORTHR</th>\n",
       "      <th>READHR</th>\n",
       "      <th>COMPHR</th>\n",
       "      <th>STUDYHR</th>\n",
       "      <th>TVHR</th>\n",
       "      <th>DIOPTERHR</th>\n",
       "      <th>MOMMY</th>\n",
       "      <th>DADMY</th>\n",
       "    </tr>\n",
       "  </thead>\n",
       "  <tbody>\n",
       "    <tr>\n",
       "      <th>0</th>\n",
       "      <td>-0.420219</td>\n",
       "      <td>-1.363917</td>\n",
       "      <td>-0.892861</td>\n",
       "      <td>0.483784</td>\n",
       "      <td>-0.281443</td>\n",
       "      <td>-1.019792</td>\n",
       "      <td>4.150661</td>\n",
       "      <td>1.697450</td>\n",
       "      <td>-0.689311</td>\n",
       "      <td>-0.672996</td>\n",
       "      <td>0.184058</td>\n",
       "      <td>0.498304</td>\n",
       "      <td>1</td>\n",
       "      <td>1</td>\n",
       "    </tr>\n",
       "    <tr>\n",
       "      <th>1</th>\n",
       "      <td>-0.420219</td>\n",
       "      <td>-0.308612</td>\n",
       "      <td>-0.171840</td>\n",
       "      <td>0.535910</td>\n",
       "      <td>-0.967997</td>\n",
       "      <td>-0.130763</td>\n",
       "      <td>-0.998898</td>\n",
       "      <td>-0.912062</td>\n",
       "      <td>-0.361875</td>\n",
       "      <td>-0.221409</td>\n",
       "      <td>-0.340932</td>\n",
       "      <td>-0.875088</td>\n",
       "      <td>1</td>\n",
       "      <td>1</td>\n",
       "    </tr>\n",
       "    <tr>\n",
       "      <th>2</th>\n",
       "      <td>-0.420219</td>\n",
       "      <td>0.604386</td>\n",
       "      <td>-0.009977</td>\n",
       "      <td>-0.506628</td>\n",
       "      <td>-0.177812</td>\n",
       "      <td>0.215809</td>\n",
       "      <td>0.257092</td>\n",
       "      <td>-0.912062</td>\n",
       "      <td>-0.034439</td>\n",
       "      <td>-0.672996</td>\n",
       "      <td>0.184058</td>\n",
       "      <td>-0.750234</td>\n",
       "      <td>0</td>\n",
       "      <td>0</td>\n",
       "    </tr>\n",
       "    <tr>\n",
       "      <th>3</th>\n",
       "      <td>-0.420219</td>\n",
       "      <td>-0.441325</td>\n",
       "      <td>-0.436703</td>\n",
       "      <td>1.230936</td>\n",
       "      <td>0.456927</td>\n",
       "      <td>-0.974587</td>\n",
       "      <td>0.759488</td>\n",
       "      <td>2.676017</td>\n",
       "      <td>-0.689311</td>\n",
       "      <td>-0.672996</td>\n",
       "      <td>-0.865922</td>\n",
       "      <td>0.685585</td>\n",
       "      <td>0</td>\n",
       "      <td>1</td>\n",
       "    </tr>\n",
       "    <tr>\n",
       "      <th>4</th>\n",
       "      <td>-1.823978</td>\n",
       "      <td>-0.166306</td>\n",
       "      <td>1.167204</td>\n",
       "      <td>0.422970</td>\n",
       "      <td>-0.566427</td>\n",
       "      <td>1.180178</td>\n",
       "      <td>0.257092</td>\n",
       "      <td>-0.912062</td>\n",
       "      <td>-0.689311</td>\n",
       "      <td>-0.672996</td>\n",
       "      <td>-0.865922</td>\n",
       "      <td>-1.374503</td>\n",
       "      <td>1</td>\n",
       "      <td>0</td>\n",
       "    </tr>\n",
       "  </tbody>\n",
       "</table>\n",
       "</div>"
      ],
      "text/plain": [
       "        AGE     SPHEQ        AL       ACD        LT       VCD   SPORTHR  \\\n",
       "0 -0.420219 -1.363917 -0.892861  0.483784 -0.281443 -1.019792  4.150661   \n",
       "1 -0.420219 -0.308612 -0.171840  0.535910 -0.967997 -0.130763 -0.998898   \n",
       "2 -0.420219  0.604386 -0.009977 -0.506628 -0.177812  0.215809  0.257092   \n",
       "3 -0.420219 -0.441325 -0.436703  1.230936  0.456927 -0.974587  0.759488   \n",
       "4 -1.823978 -0.166306  1.167204  0.422970 -0.566427  1.180178  0.257092   \n",
       "\n",
       "     READHR    COMPHR   STUDYHR      TVHR  DIOPTERHR  MOMMY  DADMY  \n",
       "0  1.697450 -0.689311 -0.672996  0.184058   0.498304      1      1  \n",
       "1 -0.912062 -0.361875 -0.221409 -0.340932  -0.875088      1      1  \n",
       "2 -0.912062 -0.034439 -0.672996  0.184058  -0.750234      0      0  \n",
       "3  2.676017 -0.689311 -0.672996 -0.865922   0.685585      0      1  \n",
       "4 -0.912062 -0.689311 -0.672996 -0.865922  -1.374503      1      0  "
      ]
     },
     "execution_count": 9,
     "metadata": {},
     "output_type": "execute_result"
    }
   ],
   "source": [
    "#adding unscaled columns to the datafram\n",
    "myopia_dfT[\"MOMMY\"] = myopia_df1[\"MOMMY\"]\n",
    "myopia_dfT[\"DADMY\"] = myopia_df1[\"DADMY\"]\n",
    "myopia_dfT.head()"
   ]
  },
  {
   "cell_type": "markdown",
   "metadata": {},
   "source": [
    "#### For this problem we want to retain 90% of explained variance in the original data set while reducing the dimensionality using principal component analysis (PCA). "
   ]
  },
  {
   "cell_type": "code",
   "execution_count": 10,
   "metadata": {},
   "outputs": [],
   "source": [
    "# applying dimensionality reduction using PCA, starting from two components\n",
    "pca = PCA(n_components = 2)\n",
    "myopia_pca = pca.fit_transform(myopia_dfT)"
   ]
  },
  {
   "cell_type": "code",
   "execution_count": 11,
   "metadata": {
    "scrolled": false
   },
   "outputs": [
    {
     "data": {
      "text/html": [
       "<div>\n",
       "<style scoped>\n",
       "    .dataframe tbody tr th:only-of-type {\n",
       "        vertical-align: middle;\n",
       "    }\n",
       "\n",
       "    .dataframe tbody tr th {\n",
       "        vertical-align: top;\n",
       "    }\n",
       "\n",
       "    .dataframe thead th {\n",
       "        text-align: right;\n",
       "    }\n",
       "</style>\n",
       "<table border=\"1\" class=\"dataframe\">\n",
       "  <thead>\n",
       "    <tr style=\"text-align: right;\">\n",
       "      <th></th>\n",
       "      <th>principal_component_1</th>\n",
       "      <th>principal_component_2</th>\n",
       "    </tr>\n",
       "  </thead>\n",
       "  <tbody>\n",
       "    <tr>\n",
       "      <th>0</th>\n",
       "      <td>0.509064</td>\n",
       "      <td>1.240002</td>\n",
       "    </tr>\n",
       "    <tr>\n",
       "      <th>1</th>\n",
       "      <td>-0.659781</td>\n",
       "      <td>-1.479657</td>\n",
       "    </tr>\n",
       "    <tr>\n",
       "      <th>2</th>\n",
       "      <td>-0.905146</td>\n",
       "      <td>-0.816177</td>\n",
       "    </tr>\n",
       "    <tr>\n",
       "      <th>3</th>\n",
       "      <td>0.117579</td>\n",
       "      <td>1.143982</td>\n",
       "    </tr>\n",
       "    <tr>\n",
       "      <th>4</th>\n",
       "      <td>-0.406560</td>\n",
       "      <td>-2.788647</td>\n",
       "    </tr>\n",
       "  </tbody>\n",
       "</table>\n",
       "</div>"
      ],
      "text/plain": [
       "   principal_component_1  principal_component_2\n",
       "0               0.509064               1.240002\n",
       "1              -0.659781              -1.479657\n",
       "2              -0.905146              -0.816177\n",
       "3               0.117579               1.143982\n",
       "4              -0.406560              -2.788647"
      ]
     },
     "execution_count": 11,
     "metadata": {},
     "output_type": "execute_result"
    }
   ],
   "source": [
    "#convert PCA data into dataframe\n",
    "myopia_pca_df = pd.DataFrame(\n",
    "    data = myopia_pca, columns = [\"principal_component_1\", \"principal_component_2\"])\n",
    "\n",
    "myopia_pca_df.head()"
   ]
  },
  {
   "cell_type": "code",
   "execution_count": 12,
   "metadata": {},
   "outputs": [
    {
     "data": {
      "text/plain": [
       "array([0.23709653, 0.17470773])"
      ]
     },
     "execution_count": 12,
     "metadata": {},
     "output_type": "execute_result"
    }
   ],
   "source": [
    "# fetching explained variance\n",
    "pca.explained_variance_ratio_"
   ]
  },
  {
   "cell_type": "markdown",
   "metadata": {},
   "source": [
    "#### with two principal components, about 82% of the information from original datasets is retained."
   ]
  },
  {
   "cell_type": "code",
   "execution_count": 13,
   "metadata": {},
   "outputs": [],
   "source": [
    "# Incerasing the number of components to 3\n",
    "pca = PCA(n_components = 3)\n",
    "myopia_pca = pca.fit_transform(myopia_dfT)"
   ]
  },
  {
   "cell_type": "code",
   "execution_count": 14,
   "metadata": {
    "scrolled": true
   },
   "outputs": [
    {
     "data": {
      "text/html": [
       "<div>\n",
       "<style scoped>\n",
       "    .dataframe tbody tr th:only-of-type {\n",
       "        vertical-align: middle;\n",
       "    }\n",
       "\n",
       "    .dataframe tbody tr th {\n",
       "        vertical-align: top;\n",
       "    }\n",
       "\n",
       "    .dataframe thead th {\n",
       "        text-align: right;\n",
       "    }\n",
       "</style>\n",
       "<table border=\"1\" class=\"dataframe\">\n",
       "  <thead>\n",
       "    <tr style=\"text-align: right;\">\n",
       "      <th></th>\n",
       "      <th>principal_component_1</th>\n",
       "      <th>principal_component_2</th>\n",
       "      <th>principal_component_3</th>\n",
       "    </tr>\n",
       "  </thead>\n",
       "  <tbody>\n",
       "    <tr>\n",
       "      <th>0</th>\n",
       "      <td>0.509064</td>\n",
       "      <td>1.240002</td>\n",
       "      <td>0.756795</td>\n",
       "    </tr>\n",
       "    <tr>\n",
       "      <th>1</th>\n",
       "      <td>-0.659781</td>\n",
       "      <td>-1.479657</td>\n",
       "      <td>-0.443546</td>\n",
       "    </tr>\n",
       "    <tr>\n",
       "      <th>2</th>\n",
       "      <td>-0.905146</td>\n",
       "      <td>-0.816177</td>\n",
       "      <td>0.736691</td>\n",
       "    </tr>\n",
       "    <tr>\n",
       "      <th>3</th>\n",
       "      <td>0.117579</td>\n",
       "      <td>1.143982</td>\n",
       "      <td>-0.978658</td>\n",
       "    </tr>\n",
       "    <tr>\n",
       "      <th>4</th>\n",
       "      <td>-0.406560</td>\n",
       "      <td>-2.788647</td>\n",
       "      <td>0.560417</td>\n",
       "    </tr>\n",
       "  </tbody>\n",
       "</table>\n",
       "</div>"
      ],
      "text/plain": [
       "   principal_component_1  principal_component_2  principal_component_3\n",
       "0               0.509064               1.240002               0.756795\n",
       "1              -0.659781              -1.479657              -0.443546\n",
       "2              -0.905146              -0.816177               0.736691\n",
       "3               0.117579               1.143982              -0.978658\n",
       "4              -0.406560              -2.788647               0.560417"
      ]
     },
     "execution_count": 14,
     "metadata": {},
     "output_type": "execute_result"
    }
   ],
   "source": [
    "#convert PCA data into dataframe\n",
    "myopia_pca_df = pd.DataFrame(\n",
    "    data = myopia_pca, columns = [\"principal_component_1\", \"principal_component_2\",\"principal_component_3\"])\n",
    "\n",
    "myopia_pca_df.head()"
   ]
  },
  {
   "cell_type": "code",
   "execution_count": 15,
   "metadata": {},
   "outputs": [
    {
     "data": {
      "text/plain": [
       "array([0.23709653, 0.17470773, 0.09439418])"
      ]
     },
     "execution_count": 15,
     "metadata": {},
     "output_type": "execute_result"
    }
   ],
   "source": [
    "# fetching explained variance\n",
    "pca.explained_variance_ratio_"
   ]
  },
  {
   "cell_type": "markdown",
   "metadata": {},
   "source": [
    "#### With three principal components, more than 90% of the explained variance is retained. So we will use three components for this analysis. "
   ]
  },
  {
   "cell_type": "code",
   "execution_count": 16,
   "metadata": {},
   "outputs": [],
   "source": [
    "#Initializing t-SNE mdoel\n",
    "tsne = TSNE(learning_rate = 35)\n",
    "\n"
   ]
  },
  {
   "cell_type": "code",
   "execution_count": 17,
   "metadata": {},
   "outputs": [
    {
     "name": "stderr",
     "output_type": "stream",
     "text": [
      "C:\\ProgramData\\Anaconda3\\envs\\PythonData38\\lib\\site-packages\\sklearn\\manifold\\_t_sne.py:780: FutureWarning: The default initialization in TSNE will change from 'random' to 'pca' in 1.2.\n",
      "  warnings.warn(\n"
     ]
    },
    {
     "data": {
      "text/plain": [
       "(618, 2)"
      ]
     },
     "execution_count": 17,
     "metadata": {},
     "output_type": "execute_result"
    }
   ],
   "source": [
    "#Further reduce dimension using TSNE\n",
    "tsne_features = tsne.fit_transform(myopia_pca_df)\n",
    "tsne_features.shape"
   ]
  },
  {
   "cell_type": "code",
   "execution_count": 18,
   "metadata": {
    "scrolled": true
   },
   "outputs": [
    {
     "data": {
      "image/png": "[encoded data removed]",
      "text/plain": [
       "<Figure size 432x288 with 1 Axes>"
      ]
     },
     "metadata": {
      "needs_background": "light"
     },
     "output_type": "display_data"
    }
   ],
   "source": [
    "#Plotting the t-SNE fitted dataset\n",
    "myopia_tsne_df = myopia_pca_df\n",
    "myopia_tsne_df[\"x\"] = tsne_features[:, 0]\n",
    "myopia_tsne_df[\"y\"] = tsne_features[:,1]\n",
    "\n",
    "plt.scatter(myopia_tsne_df[\"x\"], myopia_tsne_df[\"y\"]) \n",
    "plt.show()"
   ]
  },
  {
   "cell_type": "code",
   "execution_count": 19,
   "metadata": {
    "scrolled": true
   },
   "outputs": [
    {
     "data": {
      "text/plain": [
       "0    537\n",
       "1     81\n",
       "Name: MYOPIC, dtype: int64"
      ]
     },
     "execution_count": 19,
     "metadata": {},
     "output_type": "execute_result"
    }
   ],
   "source": [
    "#counting the labels\n",
    "labels = myopia_df[\"MYOPIC\"]\n",
    "labels.value_counts()"
   ]
  },
  {
   "cell_type": "code",
   "execution_count": 20,
   "metadata": {
    "scrolled": true
   },
   "outputs": [
    {
     "data": {
      "image/png": "[encoded data removed]",
      "text/plain": [
       "<Figure size 432x288 with 1 Axes>"
      ]
     },
     "metadata": {
      "needs_background": "light"
     },
     "output_type": "display_data"
    }
   ],
   "source": [
    "plt.scatter(myopia_tsne_df[\"x\"], myopia_tsne_df[\"y\"], c = labels) \n",
    "#plt.scatter(myopia_tsne_df[\"principal_component_2\"], myopia_pca_df[\"principal_component_3\"], c = labels) \n",
    "plt.show()"
   ]
  },
  {
   "cell_type": "code",
   "execution_count": 22,
   "metadata": {
    "scrolled": true
   },
   "outputs": [
    {
     "data": {
      "text/html": [
       "<div>\n",
       "<style scoped>\n",
       "    .dataframe tbody tr th:only-of-type {\n",
       "        vertical-align: middle;\n",
       "    }\n",
       "\n",
       "    .dataframe tbody tr th {\n",
       "        vertical-align: top;\n",
       "    }\n",
       "\n",
       "    .dataframe thead th {\n",
       "        text-align: right;\n",
       "    }\n",
       "</style>\n",
       "<table border=\"1\" class=\"dataframe\">\n",
       "  <thead>\n",
       "    <tr style=\"text-align: right;\">\n",
       "      <th></th>\n",
       "      <th>principal_component_1</th>\n",
       "      <th>principal_component_2</th>\n",
       "      <th>principal_component_3</th>\n",
       "    </tr>\n",
       "  </thead>\n",
       "  <tbody>\n",
       "    <tr>\n",
       "      <th>0</th>\n",
       "      <td>0.509064</td>\n",
       "      <td>1.240002</td>\n",
       "      <td>0.756795</td>\n",
       "    </tr>\n",
       "    <tr>\n",
       "      <th>1</th>\n",
       "      <td>-0.659781</td>\n",
       "      <td>-1.479657</td>\n",
       "      <td>-0.443546</td>\n",
       "    </tr>\n",
       "    <tr>\n",
       "      <th>2</th>\n",
       "      <td>-0.905146</td>\n",
       "      <td>-0.816177</td>\n",
       "      <td>0.736691</td>\n",
       "    </tr>\n",
       "    <tr>\n",
       "      <th>3</th>\n",
       "      <td>0.117579</td>\n",
       "      <td>1.143982</td>\n",
       "      <td>-0.978658</td>\n",
       "    </tr>\n",
       "    <tr>\n",
       "      <th>4</th>\n",
       "      <td>-0.406560</td>\n",
       "      <td>-2.788647</td>\n",
       "      <td>0.560417</td>\n",
       "    </tr>\n",
       "  </tbody>\n",
       "</table>\n",
       "</div>"
      ],
      "text/plain": [
       "   principal_component_1  principal_component_2  principal_component_3\n",
       "0               0.509064               1.240002               0.756795\n",
       "1              -0.659781              -1.479657              -0.443546\n",
       "2              -0.905146              -0.816177               0.736691\n",
       "3               0.117579               1.143982              -0.978658\n",
       "4              -0.406560              -2.788647               0.560417"
      ]
     },
     "execution_count": 22,
     "metadata": {},
     "output_type": "execute_result"
    }
   ],
   "source": [
    "#removing the tsne columns\n",
    "myopia_pca_only = myopia_pca_df.drop([\"x\",\"y\"], axis =1)\n",
    "myopia_pca_only.head()"
   ]
  },
  {
   "cell_type": "code",
   "execution_count": 34,
   "metadata": {},
   "outputs": [
    {
     "data": {
      "text/html": [
       "<div>\n",
       "<style scoped>\n",
       "    .dataframe tbody tr th:only-of-type {\n",
       "        vertical-align: middle;\n",
       "    }\n",
       "\n",
       "    .dataframe tbody tr th {\n",
       "        vertical-align: top;\n",
       "    }\n",
       "\n",
       "    .dataframe thead th {\n",
       "        text-align: right;\n",
       "    }\n",
       "</style>\n",
       "<table border=\"1\" class=\"dataframe\">\n",
       "  <thead>\n",
       "    <tr style=\"text-align: right;\">\n",
       "      <th></th>\n",
       "      <th>x</th>\n",
       "      <th>y</th>\n",
       "    </tr>\n",
       "  </thead>\n",
       "  <tbody>\n",
       "    <tr>\n",
       "      <th>0</th>\n",
       "      <td>0.957828</td>\n",
       "      <td>-13.820707</td>\n",
       "    </tr>\n",
       "    <tr>\n",
       "      <th>1</th>\n",
       "      <td>-7.373332</td>\n",
       "      <td>19.203867</td>\n",
       "    </tr>\n",
       "    <tr>\n",
       "      <th>2</th>\n",
       "      <td>-3.747511</td>\n",
       "      <td>7.062321</td>\n",
       "    </tr>\n",
       "    <tr>\n",
       "      <th>3</th>\n",
       "      <td>10.119292</td>\n",
       "      <td>-11.353573</td>\n",
       "    </tr>\n",
       "    <tr>\n",
       "      <th>4</th>\n",
       "      <td>3.644855</td>\n",
       "      <td>28.194088</td>\n",
       "    </tr>\n",
       "  </tbody>\n",
       "</table>\n",
       "</div>"
      ],
      "text/plain": [
       "           x          y\n",
       "0   0.957828 -13.820707\n",
       "1  -7.373332  19.203867\n",
       "2  -3.747511   7.062321\n",
       "3  10.119292 -11.353573\n",
       "4   3.644855  28.194088"
      ]
     },
     "execution_count": 34,
     "metadata": {},
     "output_type": "execute_result"
    }
   ],
   "source": [
    "# performing K-means with TSNE  data\n",
    "myopia_tsne_only = myopia_pca_df.drop([\"principal_component_1\",\"principal_component_2\",\"principal_component_3\"], axis =1)\n",
    "myopia_tsne_only.head()"
   ]
  },
  {
   "cell_type": "code",
   "execution_count": 35,
   "metadata": {},
   "outputs": [
    {
     "name": "stderr",
     "output_type": "stream",
     "text": [
      "C:\\ProgramData\\Anaconda3\\envs\\PythonData38\\lib\\site-packages\\sklearn\\cluster\\_kmeans.py:1036: UserWarning: KMeans is known to have a memory leak on Windows with MKL, when there are less chunks than available threads. You can avoid it by setting the environment variable OMP_NUM_THREADS=3.\n",
      "  warnings.warn(\n"
     ]
    },
    {
     "data": {
      "text/html": [
       "<div>\n",
       "<style scoped>\n",
       "    .dataframe tbody tr th:only-of-type {\n",
       "        vertical-align: middle;\n",
       "    }\n",
       "\n",
       "    .dataframe tbody tr th {\n",
       "        vertical-align: top;\n",
       "    }\n",
       "\n",
       "    .dataframe thead th {\n",
       "        text-align: right;\n",
       "    }\n",
       "</style>\n",
       "<table border=\"1\" class=\"dataframe\">\n",
       "  <thead>\n",
       "    <tr style=\"text-align: right;\">\n",
       "      <th></th>\n",
       "      <th>k</th>\n",
       "      <th>inertia</th>\n",
       "    </tr>\n",
       "  </thead>\n",
       "  <tbody>\n",
       "    <tr>\n",
       "      <th>0</th>\n",
       "      <td>1</td>\n",
       "      <td>225564.296875</td>\n",
       "    </tr>\n",
       "    <tr>\n",
       "      <th>1</th>\n",
       "      <td>2</td>\n",
       "      <td>134980.625000</td>\n",
       "    </tr>\n",
       "    <tr>\n",
       "      <th>2</th>\n",
       "      <td>3</td>\n",
       "      <td>67941.914062</td>\n",
       "    </tr>\n",
       "    <tr>\n",
       "      <th>3</th>\n",
       "      <td>4</td>\n",
       "      <td>52287.738281</td>\n",
       "    </tr>\n",
       "    <tr>\n",
       "      <th>4</th>\n",
       "      <td>5</td>\n",
       "      <td>40247.273438</td>\n",
       "    </tr>\n",
       "  </tbody>\n",
       "</table>\n",
       "</div>"
      ],
      "text/plain": [
       "   k        inertia\n",
       "0  1  225564.296875\n",
       "1  2  134980.625000\n",
       "2  3   67941.914062\n",
       "3  4   52287.738281\n",
       "4  5   40247.273438"
      ]
     },
     "execution_count": 35,
     "metadata": {},
     "output_type": "execute_result"
    }
   ],
   "source": [
    "# using elbow curve to identify best numbers of clusters\n",
    "inertia = []\n",
    "k = list(range(1,12))\n",
    "\n",
    "#Calculating hte inertia for the range of k values\n",
    "for i in k:\n",
    "    km = KMeans(n_clusters=i, random_state = 0)\n",
    "    km.fit(myopia_tsne_only)\n",
    "    #km.fit(myopia_dfT)\n",
    "    inertia.append(km.inertia_)\n",
    "    \n",
    "    \n",
    "#creating the elbow plot \n",
    "elbow_data = {\"k\":k, \"inertia\":inertia}\n",
    "myopia_elbow = pd.DataFrame(elbow_data)\n",
    "myopia_elbow.head()\n",
    "\n"
   ]
  },
  {
   "cell_type": "code",
   "execution_count": 45,
   "metadata": {},
   "outputs": [
    {
     "data": {
      "image/png": "[encoded data removed]",
      "text/plain": [
       "<Figure size 432x288 with 1 Axes>"
      ]
     },
     "metadata": {
      "needs_background": "light"
     },
     "output_type": "display_data"
    }
   ],
   "source": [
    "#plot the elbow curve to find best candidate for k\n",
    "plt.plot(myopia_elbow[\"k\"], myopia_elbow[\"inertia\"] )\n",
    "plt.xticks(range(1,12))\n",
    "plt.xlabel('Number of clusters')\n",
    "plt.ylabel('Inertia')\n",
    "plt.title('Elbow curve for myopia data')\n",
    "plt.savefig('Elbow_curve.png')\n",
    "plt.show()"
   ]
  },
  {
   "cell_type": "code",
   "execution_count": 37,
   "metadata": {},
   "outputs": [],
   "source": [
    "#defining a function for calculating class for given values of clusters\n",
    "def get_clusters(k, data):\n",
    "    # Initialize the K-Means model\n",
    "    model = KMeans(n_clusters=k, random_state=0)\n",
    "\n",
    "    # Train the model\n",
    "    model.fit(data)\n",
    "\n",
    "    # Predict clusters\n",
    "    predictions = model.predict(data)\n",
    "\n",
    "    # Create return DataFrame with predicted clusters\n",
    "    data[\"class\"] = model.labels_\n",
    "\n",
    "    return data"
   ]
  },
  {
   "cell_type": "code",
   "execution_count": 38,
   "metadata": {},
   "outputs": [],
   "source": [
    "# based on elbow curve, three clusters might be best one. \n",
    "\n",
    "#fitting the model with n_clusters = 3\n",
    "clusters_data = get_clusters(3, myopia_tsne_only)"
   ]
  },
  {
   "cell_type": "code",
   "execution_count": 39,
   "metadata": {
    "scrolled": true
   },
   "outputs": [
    {
     "data": {
      "text/html": [
       "<div>\n",
       "<style scoped>\n",
       "    .dataframe tbody tr th:only-of-type {\n",
       "        vertical-align: middle;\n",
       "    }\n",
       "\n",
       "    .dataframe tbody tr th {\n",
       "        vertical-align: top;\n",
       "    }\n",
       "\n",
       "    .dataframe thead th {\n",
       "        text-align: right;\n",
       "    }\n",
       "</style>\n",
       "<table border=\"1\" class=\"dataframe\">\n",
       "  <thead>\n",
       "    <tr style=\"text-align: right;\">\n",
       "      <th></th>\n",
       "      <th>x</th>\n",
       "      <th>y</th>\n",
       "      <th>class</th>\n",
       "    </tr>\n",
       "  </thead>\n",
       "  <tbody>\n",
       "    <tr>\n",
       "      <th>0</th>\n",
       "      <td>0.957828</td>\n",
       "      <td>-13.820707</td>\n",
       "      <td>2</td>\n",
       "    </tr>\n",
       "    <tr>\n",
       "      <th>1</th>\n",
       "      <td>-7.373332</td>\n",
       "      <td>19.203867</td>\n",
       "      <td>0</td>\n",
       "    </tr>\n",
       "    <tr>\n",
       "      <th>2</th>\n",
       "      <td>-3.747511</td>\n",
       "      <td>7.062321</td>\n",
       "      <td>0</td>\n",
       "    </tr>\n",
       "    <tr>\n",
       "      <th>3</th>\n",
       "      <td>10.119292</td>\n",
       "      <td>-11.353573</td>\n",
       "      <td>2</td>\n",
       "    </tr>\n",
       "    <tr>\n",
       "      <th>4</th>\n",
       "      <td>3.644855</td>\n",
       "      <td>28.194088</td>\n",
       "      <td>0</td>\n",
       "    </tr>\n",
       "    <tr>\n",
       "      <th>...</th>\n",
       "      <td>...</td>\n",
       "      <td>...</td>\n",
       "      <td>...</td>\n",
       "    </tr>\n",
       "    <tr>\n",
       "      <th>613</th>\n",
       "      <td>-1.406279</td>\n",
       "      <td>-15.140186</td>\n",
       "      <td>2</td>\n",
       "    </tr>\n",
       "    <tr>\n",
       "      <th>614</th>\n",
       "      <td>-5.886567</td>\n",
       "      <td>18.621777</td>\n",
       "      <td>0</td>\n",
       "    </tr>\n",
       "    <tr>\n",
       "      <th>615</th>\n",
       "      <td>-6.274684</td>\n",
       "      <td>21.675081</td>\n",
       "      <td>0</td>\n",
       "    </tr>\n",
       "    <tr>\n",
       "      <th>616</th>\n",
       "      <td>-7.411124</td>\n",
       "      <td>-10.330270</td>\n",
       "      <td>1</td>\n",
       "    </tr>\n",
       "    <tr>\n",
       "      <th>617</th>\n",
       "      <td>-1.604284</td>\n",
       "      <td>5.328609</td>\n",
       "      <td>0</td>\n",
       "    </tr>\n",
       "  </tbody>\n",
       "</table>\n",
       "<p>618 rows × 3 columns</p>\n",
       "</div>"
      ],
      "text/plain": [
       "             x          y  class\n",
       "0     0.957828 -13.820707      2\n",
       "1    -7.373332  19.203867      0\n",
       "2    -3.747511   7.062321      0\n",
       "3    10.119292 -11.353573      2\n",
       "4     3.644855  28.194088      0\n",
       "..         ...        ...    ...\n",
       "613  -1.406279 -15.140186      2\n",
       "614  -5.886567  18.621777      0\n",
       "615  -6.274684  21.675081      0\n",
       "616  -7.411124 -10.330270      1\n",
       "617  -1.604284   5.328609      0\n",
       "\n",
       "[618 rows x 3 columns]"
      ]
     },
     "execution_count": 39,
     "metadata": {},
     "output_type": "execute_result"
    }
   ],
   "source": [
    "clusters_data"
   ]
  },
  {
   "cell_type": "code",
   "execution_count": 32,
   "metadata": {},
   "outputs": [],
   "source": [
    "#defining a function to plot clusters\n",
    "def show_clusters(df):\n",
    "    plt.scatter(df['principal_component_1'], df['principal_component_2'], c=df['class'])\n",
    "    plt.xlabel('principal_component_1')\n",
    "    plt.ylabel('principal_component_2')\n",
    "    plt.show()"
   ]
  },
  {
   "cell_type": "code",
   "execution_count": 43,
   "metadata": {},
   "outputs": [],
   "source": [
    "#defining a function to plot clusters for tsne data with K-means labels\n",
    "def show_clusters(df):\n",
    "    plt.scatter(df['x'], df['y'], c=df['class'])\n",
    "    plt.xlabel('x')\n",
    "    plt.ylabel('y')\n",
    "    plt.savefig(\"tsne_clusters.png\")\n",
    "    plt.show()\n",
    "    "
   ]
  },
  {
   "cell_type": "code",
   "execution_count": 44,
   "metadata": {
    "scrolled": true
   },
   "outputs": [
    {
     "data": {
      "image/png": "[encoded data removed]",
      "text/plain": [
       "<Figure size 432x288 with 1 Axes>"
      ]
     },
     "metadata": {
      "needs_background": "light"
     },
     "output_type": "display_data"
    }
   ],
   "source": [
    "show_clusters(clusters_data)\n"
   ]
  },
  {
   "cell_type": "markdown",
   "metadata": {},
   "source": [
    "#### This shows the clear distinction among the classes when three classes (based on elbow curve) are chosen with Kmeans clustering on PCA data further reduced by tsne. "
   ]
  }
 ],
 "metadata": {
  "kernelspec": {
   "display_name": "Python [conda env:PythonData38] *",
   "language": "python",
   "name": "conda-env-PythonData38-py"
  },
  "language_info": {
   "codemirror_mode": {
    "name": "ipython",
    "version": 3
   },
   "file_extension": ".py",
   "mimetype": "text/x-python",
   "name": "python",
   "nbconvert_exporter": "python",
   "pygments_lexer": "ipython3",
   "version": "3.8.5"
  }
 },
 "nbformat": 4,
 "nbformat_minor": 4
}
